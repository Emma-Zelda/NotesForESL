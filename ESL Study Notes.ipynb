{
 "cells": [
  {
   "cell_type": "markdown",
   "metadata": {},
   "source": [
    "# Study Notes for *The Elements of Statistical Learning*\n",
    "\n",
    "### Emma Teng\n",
    "### August 2 2018"
   ]
  },
  {
   "cell_type": "markdown",
   "metadata": {},
   "source": [
    "## Chapter 2 Overview of Supervised Learning \n",
    "\n",
    "1. Termonologies for X and Y:\n",
    "    \n",
    "    - X: inputs, predictors, independent variables, features;\n",
    "    - Y: outputs, reponses, dependent variables.\n",
    "    \n",
    "2. The distinction in output type has led to a naming convention for the prediction tasks:\n",
    "    \n",
    "    - regression: when we predict quantitative outputs;\n",
    "    - classification: when we predict qualitative outputs.\n",
    "    \n",
    "3. Variable types include: quantitative, qualitative and ordered categorical.\n",
    "\n",
    "4. The most useful and commonly used coding for *qualitative* variables are **dummy variables**."
   ]
  }
 ],
 "metadata": {
  "kernelspec": {
   "display_name": "Python 3",
   "language": "python",
   "name": "python3"
  },
  "language_info": {
   "codemirror_mode": {
    "name": "ipython",
    "version": 3
   },
   "file_extension": ".py",
   "mimetype": "text/x-python",
   "name": "python",
   "nbconvert_exporter": "python",
   "pygments_lexer": "ipython3",
   "version": "3.6.5"
  }
 },
 "nbformat": 4,
 "nbformat_minor": 2
}
